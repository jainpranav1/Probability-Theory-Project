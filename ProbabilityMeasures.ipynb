{
 "cells": [
  {
   "cell_type": "markdown",
   "id": "881b3fa2-852c-451d-8893-7751a07a614d",
   "metadata": {},
   "source": [
    "# Probability Measures\n",
    "This notebook is based on information from the following resources\n",
    "- [The Bright Side of Mathematics - Probability Measures](https://www.youtube.com/watch?v=Z_jJXumponM&list=PLBh2i93oe2qtmWsYpx0NarbeahMJvhRj0&index=2&ab_channel=TheBrightSideofMathematics)\n",
    "- [wikipedia - probability space](https://en.wikipedia.org/wiki/Probability_space)\n",
    "- [wikipedia - $\\sigma$-algebra](https://en.wikipedia.org/wiki/%CE%A3-algebra)"
   ]
  },
  {
   "cell_type": "markdown",
   "id": "b9185e48-2196-4673-9512-79b32d3ff8d6",
   "metadata": {},
   "source": [
    "A probability space is a mathematical model of an experiment. A probability space $(\\Omega, \\mathcal{A}, \\mathbb{P})$ consists of three elements:\n",
    "- A sample space $\\Omega$, which a set of all possible outcomes of the experiment\n",
    "- An event space $\\mathcal{A}$, which is a $\\sigma$-algebra of $\\Omega$\n",
    "    - elements of $\\mathcal{A}$ are called events\n",
    "    - A $\\sigma$-algebra of a set $Y$ is a set $X \\subseteq \\mathcal{P}(Y)$ such that:\n",
    "        - $\\emptyset, \\Omega \\in \\mathcal{A}$\n",
    "        - If $A \\in X$, then $A^{c} \\in X$\n",
    "        - If $A_{1}, A_{2}, ... \\in X$, then $\\bigcup_{j=1}^{\\infty} A_{j} \\in X$\n",
    "- A probability measure $\\mathbb{P}$, which is a function $\\mathcal{A} \\rightarrow [0, 1]$ such that:\n",
    "    - $\\mathbb{P}(\\Omega) = 1$\n",
    "    - $\\mathbb{P}(\\emptyset) = 0$\n",
    "    - $\\mathbb{P}(\\bigcup_{j=1}^{\\infty} A_{j}) = \\sum_{j=1}^{\\infty}\\mathbb{P}(A_{j})$"
   ]
  },
  {
   "cell_type": "markdown",
   "id": "a3f90d04-f26f-4f9e-bbe6-8e7a12158d1e",
   "metadata": {},
   "source": [
    "We define the class `ProbabilitySpace` to serve as a programmatic model of a probability space."
   ]
  },
  {
   "cell_type": "code",
   "execution_count": 1,
   "id": "8615a94d-c3a9-4692-86aa-d249b03fda32",
   "metadata": {},
   "outputs": [],
   "source": [
    "class ProbabilitySpace:\n",
    "    def __init__(self, sampleSpace, eventSpace, probabilityMeasure):\n",
    "        self.sampleSpace = sampleSpace\n",
    "        self.eventSpace = eventSpace\n",
    "        self.probabilityMeasure = probabilityMeasure"
   ]
  },
  {
   "cell_type": "markdown",
   "id": "73fa6136-132b-4a5d-ac3d-a5bd61e99947",
   "metadata": {},
   "source": [
    "We can create a probability space for the experiment of rolling a die. Consider $(\\Omega, \\mathcal{A}, \\mathbb{P})$ such that:\n",
    "- $\\Omega = \\{1, 2, 3, 4, 5, 6\\}$\n",
    "- $\\mathcal{A} = \\mathcal{P}(\\Omega)$\n",
    "- $\\mathbb{P}(A) = \\frac{|A|}{6}$\n",
    "\n",
    "$(\\Omega, \\mathcal{A}, \\mathbb{P})$ is a probability space for the experiment. We construct $(\\Omega, \\mathcal{A}, \\mathbb{P})$ programmatically below."
   ]
  },
  {
   "cell_type": "code",
   "execution_count": 2,
   "id": "e703a959-b62c-467d-8a32-e6eba9e5c328",
   "metadata": {},
   "outputs": [],
   "source": [
    "# copied from: https://stackoverflow.com/questions/1482308/how-to-get-all-subsets-of-a-set-powerset\n",
    "from itertools import chain, combinations\n",
    "\n",
    "def powerset(iterable):\n",
    "    s = list(iterable)\n",
    "    return chain.from_iterable(combinations(s, r) for r in range(len(s)+1))"
   ]
  },
  {
   "cell_type": "code",
   "execution_count": 3,
   "id": "2f1b9a95-60bc-487c-bcd2-527e1026f084",
   "metadata": {
    "scrolled": true
   },
   "outputs": [],
   "source": [
    "import sympy as sym\n",
    "\n",
    "RollOneDie = ProbabilitySpace(\n",
    "    {1, 2, 3, 4, 5, 6},\n",
    "    powerset({1, 2, 3, 4, 5, 6}),\n",
    "    lambda A: sym.Rational(len(A), 6)\n",
    ")"
   ]
  },
  {
   "cell_type": "code",
   "execution_count": 4,
   "id": "da147c55-7ca0-4e44-8700-89a05603785d",
   "metadata": {},
   "outputs": [
    {
     "data": {
      "text/latex": [
       "$\\mathbb{P}(\\{6\\}) = 1/6$"
      ],
      "text/plain": [
       "<IPython.core.display.Latex object>"
      ]
     },
     "metadata": {},
     "output_type": "display_data"
    },
    {
     "data": {
      "text/latex": [
       "$\\mathbb{P}(\\{1, 2, 3\\}) = 1/2$"
      ],
      "text/plain": [
       "<IPython.core.display.Latex object>"
      ]
     },
     "metadata": {},
     "output_type": "display_data"
    },
    {
     "data": {
      "text/latex": [
       "$\\mathbb{P}(\\{2, 5\\}) = 1/3$"
      ],
      "text/plain": [
       "<IPython.core.display.Latex object>"
      ]
     },
     "metadata": {},
     "output_type": "display_data"
    }
   ],
   "source": [
    "from IPython.display import display, Latex\n",
    "\n",
    "display(Latex('$\\mathbb{P}(\\{6\\}) = ' + f'{RollOneDie.probabilityMeasure({6})}$'))\n",
    "display(Latex('$\\mathbb{P}(\\{1, 2, 3\\}) = ' + f'{RollOneDie.probabilityMeasure({1, 2, 3})}$'))\n",
    "display(Latex('$\\mathbb{P}(\\{2, 5\\}) = ' + f'{RollOneDie.probabilityMeasure({2, 5})}$'))"
   ]
  },
  {
   "cell_type": "code",
   "execution_count": null,
   "id": "6c4c3adf-6676-46a6-87f9-f7d29b6b026a",
   "metadata": {},
   "outputs": [],
   "source": []
  }
 ],
 "metadata": {
  "kernelspec": {
   "display_name": "prob_env",
   "language": "python",
   "name": "prob_env"
  },
  "language_info": {
   "codemirror_mode": {
    "name": "ipython",
    "version": 3
   },
   "file_extension": ".py",
   "mimetype": "text/x-python",
   "name": "python",
   "nbconvert_exporter": "python",
   "pygments_lexer": "ipython3",
   "version": "3.11.9"
  }
 },
 "nbformat": 4,
 "nbformat_minor": 5
}
